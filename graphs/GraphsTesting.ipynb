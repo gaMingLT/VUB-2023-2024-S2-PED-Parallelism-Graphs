{
 "cells": [
  {
   "cell_type": "code",
   "id": "initial_id",
   "metadata": {
    "collapsed": true,
    "ExecuteTime": {
     "end_time": "2024-04-17T19:04:26.505678Z",
     "start_time": "2024-04-17T19:04:26.503244Z"
    }
   },
   "source": [
    "import sys\n",
    "\n",
    "import pandas as pd\n",
    "import matplotlib.pyplot as plt\n",
    "import numpy as np\n",
    "import scipy as sp\n",
    "import chart_studio.plotly as py\n",
    "import plotly.figure_factory as ff\n",
    "import plotly.graph_objects as go\n",
    "import plotly.express as px\n"
   ],
   "outputs": [],
   "execution_count": 3
  },
  {
   "metadata": {},
   "cell_type": "markdown",
   "source": "## Retrieve Data",
   "id": "db85d329e3beb774"
  },
  {
   "cell_type": "code",
   "source": [
    "\n",
    "benchmark_directory = \"06-12-16-43-new\"\n",
    "dataset = \"Large\"\n",
    "\n",
    "df = pd.read_csv(\"F:\\\\VUB\\\\S2\\\\150_GIT\\\\50_P&D\\\\assignments\\\\parallelism\\\\measurements\\\\\"+benchmark_directory+\"\\\\runtimes_\"+dataset+\".csv\", index_col=0, header=None)\n",
    "\n",
    "\n",
    "print(df)\n"
   ],
   "metadata": {
    "collapsed": false,
    "ExecuteTime": {
     "end_time": "2024-04-17T19:04:27.031530Z",
     "start_time": "2024-04-17T19:04:26.577286Z"
    }
   },
   "id": "a71fafce0fe43497",
   "outputs": [
    {
     "ename": "FileNotFoundError",
     "evalue": "[Errno 2] No such file or directory: 'F:\\\\VUB\\\\S2\\\\150_GIT\\\\50_P&D\\\\assignments\\\\parallelism\\\\measurements\\\\06-12-16-43-new\\\\runtimes_Large.csv'",
     "output_type": "error",
     "traceback": [
      "\u001B[0;31m---------------------------------------------------------------------------\u001B[0m",
      "\u001B[0;31mFileNotFoundError\u001B[0m                         Traceback (most recent call last)",
      "Cell \u001B[0;32mIn[4], line 4\u001B[0m\n\u001B[1;32m      1\u001B[0m benchmark_directory \u001B[38;5;241m=\u001B[39m \u001B[38;5;124m\"\u001B[39m\u001B[38;5;124m06-12-16-43-new\u001B[39m\u001B[38;5;124m\"\u001B[39m\n\u001B[1;32m      2\u001B[0m dataset \u001B[38;5;241m=\u001B[39m \u001B[38;5;124m\"\u001B[39m\u001B[38;5;124mLarge\u001B[39m\u001B[38;5;124m\"\u001B[39m\n\u001B[0;32m----> 4\u001B[0m df \u001B[38;5;241m=\u001B[39m \u001B[43mpd\u001B[49m\u001B[38;5;241;43m.\u001B[39;49m\u001B[43mread_csv\u001B[49m\u001B[43m(\u001B[49m\u001B[38;5;124;43m\"\u001B[39;49m\u001B[38;5;124;43mF:\u001B[39;49m\u001B[38;5;130;43;01m\\\\\u001B[39;49;00m\u001B[38;5;124;43mVUB\u001B[39;49m\u001B[38;5;130;43;01m\\\\\u001B[39;49;00m\u001B[38;5;124;43mS2\u001B[39;49m\u001B[38;5;130;43;01m\\\\\u001B[39;49;00m\u001B[38;5;124;43m150_GIT\u001B[39;49m\u001B[38;5;130;43;01m\\\\\u001B[39;49;00m\u001B[38;5;124;43m50_P&D\u001B[39;49m\u001B[38;5;130;43;01m\\\\\u001B[39;49;00m\u001B[38;5;124;43massignments\u001B[39;49m\u001B[38;5;130;43;01m\\\\\u001B[39;49;00m\u001B[38;5;124;43mparallelism\u001B[39;49m\u001B[38;5;130;43;01m\\\\\u001B[39;49;00m\u001B[38;5;124;43mmeasurements\u001B[39;49m\u001B[38;5;130;43;01m\\\\\u001B[39;49;00m\u001B[38;5;124;43m\"\u001B[39;49m\u001B[38;5;241;43m+\u001B[39;49m\u001B[43mbenchmark_directory\u001B[49m\u001B[38;5;241;43m+\u001B[39;49m\u001B[38;5;124;43m\"\u001B[39;49m\u001B[38;5;130;43;01m\\\\\u001B[39;49;00m\u001B[38;5;124;43mruntimes_\u001B[39;49m\u001B[38;5;124;43m\"\u001B[39;49m\u001B[38;5;241;43m+\u001B[39;49m\u001B[43mdataset\u001B[49m\u001B[38;5;241;43m+\u001B[39;49m\u001B[38;5;124;43m\"\u001B[39;49m\u001B[38;5;124;43m.csv\u001B[39;49m\u001B[38;5;124;43m\"\u001B[39;49m\u001B[43m,\u001B[49m\u001B[43m \u001B[49m\u001B[43mindex_col\u001B[49m\u001B[38;5;241;43m=\u001B[39;49m\u001B[38;5;241;43m0\u001B[39;49m\u001B[43m,\u001B[49m\u001B[43m \u001B[49m\u001B[43mheader\u001B[49m\u001B[38;5;241;43m=\u001B[39;49m\u001B[38;5;28;43;01mNone\u001B[39;49;00m\u001B[43m)\u001B[49m\n\u001B[1;32m      7\u001B[0m \u001B[38;5;28mprint\u001B[39m(df)\n",
      "File \u001B[0;32m~/Documents/School/VUB/2023-2024/S2/150 GIT/50 P&D/assignments/parallelism-graphs/venv/lib/python3.9/site-packages/pandas/io/parsers/readers.py:1026\u001B[0m, in \u001B[0;36mread_csv\u001B[0;34m(filepath_or_buffer, sep, delimiter, header, names, index_col, usecols, dtype, engine, converters, true_values, false_values, skipinitialspace, skiprows, skipfooter, nrows, na_values, keep_default_na, na_filter, verbose, skip_blank_lines, parse_dates, infer_datetime_format, keep_date_col, date_parser, date_format, dayfirst, cache_dates, iterator, chunksize, compression, thousands, decimal, lineterminator, quotechar, quoting, doublequote, escapechar, comment, encoding, encoding_errors, dialect, on_bad_lines, delim_whitespace, low_memory, memory_map, float_precision, storage_options, dtype_backend)\u001B[0m\n\u001B[1;32m   1013\u001B[0m kwds_defaults \u001B[38;5;241m=\u001B[39m _refine_defaults_read(\n\u001B[1;32m   1014\u001B[0m     dialect,\n\u001B[1;32m   1015\u001B[0m     delimiter,\n\u001B[0;32m   (...)\u001B[0m\n\u001B[1;32m   1022\u001B[0m     dtype_backend\u001B[38;5;241m=\u001B[39mdtype_backend,\n\u001B[1;32m   1023\u001B[0m )\n\u001B[1;32m   1024\u001B[0m kwds\u001B[38;5;241m.\u001B[39mupdate(kwds_defaults)\n\u001B[0;32m-> 1026\u001B[0m \u001B[38;5;28;01mreturn\u001B[39;00m \u001B[43m_read\u001B[49m\u001B[43m(\u001B[49m\u001B[43mfilepath_or_buffer\u001B[49m\u001B[43m,\u001B[49m\u001B[43m \u001B[49m\u001B[43mkwds\u001B[49m\u001B[43m)\u001B[49m\n",
      "File \u001B[0;32m~/Documents/School/VUB/2023-2024/S2/150 GIT/50 P&D/assignments/parallelism-graphs/venv/lib/python3.9/site-packages/pandas/io/parsers/readers.py:620\u001B[0m, in \u001B[0;36m_read\u001B[0;34m(filepath_or_buffer, kwds)\u001B[0m\n\u001B[1;32m    617\u001B[0m _validate_names(kwds\u001B[38;5;241m.\u001B[39mget(\u001B[38;5;124m\"\u001B[39m\u001B[38;5;124mnames\u001B[39m\u001B[38;5;124m\"\u001B[39m, \u001B[38;5;28;01mNone\u001B[39;00m))\n\u001B[1;32m    619\u001B[0m \u001B[38;5;66;03m# Create the parser.\u001B[39;00m\n\u001B[0;32m--> 620\u001B[0m parser \u001B[38;5;241m=\u001B[39m \u001B[43mTextFileReader\u001B[49m\u001B[43m(\u001B[49m\u001B[43mfilepath_or_buffer\u001B[49m\u001B[43m,\u001B[49m\u001B[43m \u001B[49m\u001B[38;5;241;43m*\u001B[39;49m\u001B[38;5;241;43m*\u001B[39;49m\u001B[43mkwds\u001B[49m\u001B[43m)\u001B[49m\n\u001B[1;32m    622\u001B[0m \u001B[38;5;28;01mif\u001B[39;00m chunksize \u001B[38;5;129;01mor\u001B[39;00m iterator:\n\u001B[1;32m    623\u001B[0m     \u001B[38;5;28;01mreturn\u001B[39;00m parser\n",
      "File \u001B[0;32m~/Documents/School/VUB/2023-2024/S2/150 GIT/50 P&D/assignments/parallelism-graphs/venv/lib/python3.9/site-packages/pandas/io/parsers/readers.py:1620\u001B[0m, in \u001B[0;36mTextFileReader.__init__\u001B[0;34m(self, f, engine, **kwds)\u001B[0m\n\u001B[1;32m   1617\u001B[0m     \u001B[38;5;28mself\u001B[39m\u001B[38;5;241m.\u001B[39moptions[\u001B[38;5;124m\"\u001B[39m\u001B[38;5;124mhas_index_names\u001B[39m\u001B[38;5;124m\"\u001B[39m] \u001B[38;5;241m=\u001B[39m kwds[\u001B[38;5;124m\"\u001B[39m\u001B[38;5;124mhas_index_names\u001B[39m\u001B[38;5;124m\"\u001B[39m]\n\u001B[1;32m   1619\u001B[0m \u001B[38;5;28mself\u001B[39m\u001B[38;5;241m.\u001B[39mhandles: IOHandles \u001B[38;5;241m|\u001B[39m \u001B[38;5;28;01mNone\u001B[39;00m \u001B[38;5;241m=\u001B[39m \u001B[38;5;28;01mNone\u001B[39;00m\n\u001B[0;32m-> 1620\u001B[0m \u001B[38;5;28mself\u001B[39m\u001B[38;5;241m.\u001B[39m_engine \u001B[38;5;241m=\u001B[39m \u001B[38;5;28;43mself\u001B[39;49m\u001B[38;5;241;43m.\u001B[39;49m\u001B[43m_make_engine\u001B[49m\u001B[43m(\u001B[49m\u001B[43mf\u001B[49m\u001B[43m,\u001B[49m\u001B[43m \u001B[49m\u001B[38;5;28;43mself\u001B[39;49m\u001B[38;5;241;43m.\u001B[39;49m\u001B[43mengine\u001B[49m\u001B[43m)\u001B[49m\n",
      "File \u001B[0;32m~/Documents/School/VUB/2023-2024/S2/150 GIT/50 P&D/assignments/parallelism-graphs/venv/lib/python3.9/site-packages/pandas/io/parsers/readers.py:1880\u001B[0m, in \u001B[0;36mTextFileReader._make_engine\u001B[0;34m(self, f, engine)\u001B[0m\n\u001B[1;32m   1878\u001B[0m     \u001B[38;5;28;01mif\u001B[39;00m \u001B[38;5;124m\"\u001B[39m\u001B[38;5;124mb\u001B[39m\u001B[38;5;124m\"\u001B[39m \u001B[38;5;129;01mnot\u001B[39;00m \u001B[38;5;129;01min\u001B[39;00m mode:\n\u001B[1;32m   1879\u001B[0m         mode \u001B[38;5;241m+\u001B[39m\u001B[38;5;241m=\u001B[39m \u001B[38;5;124m\"\u001B[39m\u001B[38;5;124mb\u001B[39m\u001B[38;5;124m\"\u001B[39m\n\u001B[0;32m-> 1880\u001B[0m \u001B[38;5;28mself\u001B[39m\u001B[38;5;241m.\u001B[39mhandles \u001B[38;5;241m=\u001B[39m \u001B[43mget_handle\u001B[49m\u001B[43m(\u001B[49m\n\u001B[1;32m   1881\u001B[0m \u001B[43m    \u001B[49m\u001B[43mf\u001B[49m\u001B[43m,\u001B[49m\n\u001B[1;32m   1882\u001B[0m \u001B[43m    \u001B[49m\u001B[43mmode\u001B[49m\u001B[43m,\u001B[49m\n\u001B[1;32m   1883\u001B[0m \u001B[43m    \u001B[49m\u001B[43mencoding\u001B[49m\u001B[38;5;241;43m=\u001B[39;49m\u001B[38;5;28;43mself\u001B[39;49m\u001B[38;5;241;43m.\u001B[39;49m\u001B[43moptions\u001B[49m\u001B[38;5;241;43m.\u001B[39;49m\u001B[43mget\u001B[49m\u001B[43m(\u001B[49m\u001B[38;5;124;43m\"\u001B[39;49m\u001B[38;5;124;43mencoding\u001B[39;49m\u001B[38;5;124;43m\"\u001B[39;49m\u001B[43m,\u001B[49m\u001B[43m \u001B[49m\u001B[38;5;28;43;01mNone\u001B[39;49;00m\u001B[43m)\u001B[49m\u001B[43m,\u001B[49m\n\u001B[1;32m   1884\u001B[0m \u001B[43m    \u001B[49m\u001B[43mcompression\u001B[49m\u001B[38;5;241;43m=\u001B[39;49m\u001B[38;5;28;43mself\u001B[39;49m\u001B[38;5;241;43m.\u001B[39;49m\u001B[43moptions\u001B[49m\u001B[38;5;241;43m.\u001B[39;49m\u001B[43mget\u001B[49m\u001B[43m(\u001B[49m\u001B[38;5;124;43m\"\u001B[39;49m\u001B[38;5;124;43mcompression\u001B[39;49m\u001B[38;5;124;43m\"\u001B[39;49m\u001B[43m,\u001B[49m\u001B[43m \u001B[49m\u001B[38;5;28;43;01mNone\u001B[39;49;00m\u001B[43m)\u001B[49m\u001B[43m,\u001B[49m\n\u001B[1;32m   1885\u001B[0m \u001B[43m    \u001B[49m\u001B[43mmemory_map\u001B[49m\u001B[38;5;241;43m=\u001B[39;49m\u001B[38;5;28;43mself\u001B[39;49m\u001B[38;5;241;43m.\u001B[39;49m\u001B[43moptions\u001B[49m\u001B[38;5;241;43m.\u001B[39;49m\u001B[43mget\u001B[49m\u001B[43m(\u001B[49m\u001B[38;5;124;43m\"\u001B[39;49m\u001B[38;5;124;43mmemory_map\u001B[39;49m\u001B[38;5;124;43m\"\u001B[39;49m\u001B[43m,\u001B[49m\u001B[43m \u001B[49m\u001B[38;5;28;43;01mFalse\u001B[39;49;00m\u001B[43m)\u001B[49m\u001B[43m,\u001B[49m\n\u001B[1;32m   1886\u001B[0m \u001B[43m    \u001B[49m\u001B[43mis_text\u001B[49m\u001B[38;5;241;43m=\u001B[39;49m\u001B[43mis_text\u001B[49m\u001B[43m,\u001B[49m\n\u001B[1;32m   1887\u001B[0m \u001B[43m    \u001B[49m\u001B[43merrors\u001B[49m\u001B[38;5;241;43m=\u001B[39;49m\u001B[38;5;28;43mself\u001B[39;49m\u001B[38;5;241;43m.\u001B[39;49m\u001B[43moptions\u001B[49m\u001B[38;5;241;43m.\u001B[39;49m\u001B[43mget\u001B[49m\u001B[43m(\u001B[49m\u001B[38;5;124;43m\"\u001B[39;49m\u001B[38;5;124;43mencoding_errors\u001B[39;49m\u001B[38;5;124;43m\"\u001B[39;49m\u001B[43m,\u001B[49m\u001B[43m \u001B[49m\u001B[38;5;124;43m\"\u001B[39;49m\u001B[38;5;124;43mstrict\u001B[39;49m\u001B[38;5;124;43m\"\u001B[39;49m\u001B[43m)\u001B[49m\u001B[43m,\u001B[49m\n\u001B[1;32m   1888\u001B[0m \u001B[43m    \u001B[49m\u001B[43mstorage_options\u001B[49m\u001B[38;5;241;43m=\u001B[39;49m\u001B[38;5;28;43mself\u001B[39;49m\u001B[38;5;241;43m.\u001B[39;49m\u001B[43moptions\u001B[49m\u001B[38;5;241;43m.\u001B[39;49m\u001B[43mget\u001B[49m\u001B[43m(\u001B[49m\u001B[38;5;124;43m\"\u001B[39;49m\u001B[38;5;124;43mstorage_options\u001B[39;49m\u001B[38;5;124;43m\"\u001B[39;49m\u001B[43m,\u001B[49m\u001B[43m \u001B[49m\u001B[38;5;28;43;01mNone\u001B[39;49;00m\u001B[43m)\u001B[49m\u001B[43m,\u001B[49m\n\u001B[1;32m   1889\u001B[0m \u001B[43m\u001B[49m\u001B[43m)\u001B[49m\n\u001B[1;32m   1890\u001B[0m \u001B[38;5;28;01massert\u001B[39;00m \u001B[38;5;28mself\u001B[39m\u001B[38;5;241m.\u001B[39mhandles \u001B[38;5;129;01mis\u001B[39;00m \u001B[38;5;129;01mnot\u001B[39;00m \u001B[38;5;28;01mNone\u001B[39;00m\n\u001B[1;32m   1891\u001B[0m f \u001B[38;5;241m=\u001B[39m \u001B[38;5;28mself\u001B[39m\u001B[38;5;241m.\u001B[39mhandles\u001B[38;5;241m.\u001B[39mhandle\n",
      "File \u001B[0;32m~/Documents/School/VUB/2023-2024/S2/150 GIT/50 P&D/assignments/parallelism-graphs/venv/lib/python3.9/site-packages/pandas/io/common.py:873\u001B[0m, in \u001B[0;36mget_handle\u001B[0;34m(path_or_buf, mode, encoding, compression, memory_map, is_text, errors, storage_options)\u001B[0m\n\u001B[1;32m    868\u001B[0m \u001B[38;5;28;01melif\u001B[39;00m \u001B[38;5;28misinstance\u001B[39m(handle, \u001B[38;5;28mstr\u001B[39m):\n\u001B[1;32m    869\u001B[0m     \u001B[38;5;66;03m# Check whether the filename is to be opened in binary mode.\u001B[39;00m\n\u001B[1;32m    870\u001B[0m     \u001B[38;5;66;03m# Binary mode does not support 'encoding' and 'newline'.\u001B[39;00m\n\u001B[1;32m    871\u001B[0m     \u001B[38;5;28;01mif\u001B[39;00m ioargs\u001B[38;5;241m.\u001B[39mencoding \u001B[38;5;129;01mand\u001B[39;00m \u001B[38;5;124m\"\u001B[39m\u001B[38;5;124mb\u001B[39m\u001B[38;5;124m\"\u001B[39m \u001B[38;5;129;01mnot\u001B[39;00m \u001B[38;5;129;01min\u001B[39;00m ioargs\u001B[38;5;241m.\u001B[39mmode:\n\u001B[1;32m    872\u001B[0m         \u001B[38;5;66;03m# Encoding\u001B[39;00m\n\u001B[0;32m--> 873\u001B[0m         handle \u001B[38;5;241m=\u001B[39m \u001B[38;5;28;43mopen\u001B[39;49m\u001B[43m(\u001B[49m\n\u001B[1;32m    874\u001B[0m \u001B[43m            \u001B[49m\u001B[43mhandle\u001B[49m\u001B[43m,\u001B[49m\n\u001B[1;32m    875\u001B[0m \u001B[43m            \u001B[49m\u001B[43mioargs\u001B[49m\u001B[38;5;241;43m.\u001B[39;49m\u001B[43mmode\u001B[49m\u001B[43m,\u001B[49m\n\u001B[1;32m    876\u001B[0m \u001B[43m            \u001B[49m\u001B[43mencoding\u001B[49m\u001B[38;5;241;43m=\u001B[39;49m\u001B[43mioargs\u001B[49m\u001B[38;5;241;43m.\u001B[39;49m\u001B[43mencoding\u001B[49m\u001B[43m,\u001B[49m\n\u001B[1;32m    877\u001B[0m \u001B[43m            \u001B[49m\u001B[43merrors\u001B[49m\u001B[38;5;241;43m=\u001B[39;49m\u001B[43merrors\u001B[49m\u001B[43m,\u001B[49m\n\u001B[1;32m    878\u001B[0m \u001B[43m            \u001B[49m\u001B[43mnewline\u001B[49m\u001B[38;5;241;43m=\u001B[39;49m\u001B[38;5;124;43m\"\u001B[39;49m\u001B[38;5;124;43m\"\u001B[39;49m\u001B[43m,\u001B[49m\n\u001B[1;32m    879\u001B[0m \u001B[43m        \u001B[49m\u001B[43m)\u001B[49m\n\u001B[1;32m    880\u001B[0m     \u001B[38;5;28;01melse\u001B[39;00m:\n\u001B[1;32m    881\u001B[0m         \u001B[38;5;66;03m# Binary mode\u001B[39;00m\n\u001B[1;32m    882\u001B[0m         handle \u001B[38;5;241m=\u001B[39m \u001B[38;5;28mopen\u001B[39m(handle, ioargs\u001B[38;5;241m.\u001B[39mmode)\n",
      "\u001B[0;31mFileNotFoundError\u001B[0m: [Errno 2] No such file or directory: 'F:\\\\VUB\\\\S2\\\\150_GIT\\\\50_P&D\\\\assignments\\\\parallelism\\\\measurements\\\\06-12-16-43-new\\\\runtimes_Large.csv'"
     ]
    }
   ],
   "execution_count": 4
  },
  {
   "cell_type": "code",
   "source": [
    "\n",
    "print(df.T)\n",
    "\n"
   ],
   "metadata": {
    "collapsed": false
   },
   "id": "2f5ab4740c686f64",
   "outputs": [],
   "execution_count": null
  },
  {
   "metadata": {},
   "cell_type": "markdown",
   "source": "## Transform Data",
   "id": "355cd3e2cd94c0f0"
  },
  {
   "cell_type": "code",
   "source": [
    "\n",
    "dfT = pd.DataFrame(df.T, columns=[\"SEQ\",\"ARTICLE_TEXT1\", \"ARTICLE_TEXT4\", \"ARTICLE_TEXT_MAX\"]) # transpose the data\n",
    "\n",
    "print(dfT)\n",
    "\n",
    "print(dfT.columns)\n"
   ],
   "metadata": {
    "collapsed": false
   },
   "id": "2f558033d894b095",
   "outputs": [],
   "execution_count": null
  },
  {
   "metadata": {},
   "cell_type": "markdown",
   "source": "### Removing first 5 iterations (warmup)",
   "id": "83f68748f36e1f4c"
  },
  {
   "metadata": {},
   "cell_type": "code",
   "source": [
    "\n",
    "dfT = dfT.iloc[5:]\n",
    "\n",
    "print(dfT)\n"
   ],
   "id": "e2429380f008c50d",
   "outputs": [],
   "execution_count": null
  },
  {
   "metadata": {},
   "cell_type": "markdown",
   "source": "### Intermediary Plot",
   "id": "3c0885c7b6cb2b"
  },
  {
   "cell_type": "code",
   "source": [
    "\n",
    "dfT.plot()\n",
    "\n"
   ],
   "metadata": {
    "collapsed": false
   },
   "id": "8ed2e34f4bc9887c",
   "outputs": [],
   "execution_count": null
  },
  {
   "metadata": {},
   "cell_type": "markdown",
   "source": "## Scale the columns",
   "id": "bd9cb1f910b8676d"
  },
  {
   "cell_type": "code",
   "source": [
    "\n",
    "dfT[\"SEQ_SCALED\"] = dfT[\"SEQ\"].apply(lambda x: round(x / 1000000,2))\n",
    "dfT[\"ARTICLE_TEXT1_SCALED\"] = dfT[\"ARTICLE_TEXT1\"].apply(lambda x: round(x / 1000000,2))\n",
    "dfT[\"ARTICLE_TEXT4_SCALED\"] = dfT[\"ARTICLE_TEXT4\"].apply(lambda x: round(x / 1000000,2))\n",
    "dfT[\"ARTICLE_TEXT_MAX_SCALED\"] = dfT[\"ARTICLE_TEXT_MAX\"].apply(lambda x: round(x / 1000000,2))\n",
    "\n",
    "print(dfT)\n",
    "\n"
   ],
   "metadata": {
    "collapsed": false
   },
   "id": "65f2a4c387055f76",
   "outputs": [],
   "execution_count": null
  },
  {
   "metadata": {},
   "cell_type": "markdown",
   "source": "### Intermediary Plot",
   "id": "3beeef736aec6b8c"
  },
  {
   "metadata": {},
   "cell_type": "code",
   "source": [
    "\n",
    "dfT[['SEQ_SCALED','ARTICLE_TEXT1_SCALED', 'ARTICLE_TEXT4_SCALED', 'ARTICLE_TEXT_MAX_SCALED']].plot()\n"
   ],
   "id": "65012733bea05035",
   "outputs": [],
   "execution_count": null
  },
  {
   "metadata": {},
   "cell_type": "markdown",
   "source": [
    "\n",
    "Observation, might be better to scale the values in the columns relative to each other to a value like 0 - 1? \n",
    "Possible problem, is that the change between the underlying values might be come to low.\n"
   ],
   "id": "352d6ca04a7661ab"
  },
  {
   "metadata": {},
   "cell_type": "markdown",
   "source": "## Extract Parameters",
   "id": "49a7a703e436cd95"
  },
  {
   "cell_type": "code",
   "source": [
    "\n",
    "columns = [ \"SEQ\", \"ARTICLE_TEXT1\", \"ARTICLE_TEXT4\", \"ARTICLE_TEXT_MAX\"]\n",
    "rows = [ \"mean\", \"median\", \"max\", \"min\", \"overhead\", \"computation_speedup\", \"efficiency\", \"application_speedup\" ]\n",
    "\n",
    "dfNew = pd.DataFrame(columns=columns, index=rows)\n",
    "\n",
    "# TODO Use the unscaled columns instead?\n",
    "\n",
    "# Seq\n",
    "dfNew.loc[\"mean\", \"SEQ\"] = round(dfT[\"SEQ_SCALED\"].mean(),2)\n",
    "dfNew.loc[\"median\", \"SEQ\"] = round(dfT[\"SEQ_SCALED\"].median(),2)\n",
    "dfNew.loc[\"max\", \"SEQ\"] = round(dfT[\"SEQ_SCALED\"].max(),2)\n",
    "dfNew.loc[\"min\", \"SEQ\"] = round(dfT[\"SEQ_SCALED\"].min(),2)\n",
    "\n",
    "# Article Text 1\n",
    "dfNew.loc[\"mean\", \"ARTICLE_TEXT1\"] = round(dfT[\"ARTICLE_TEXT1_SCALED\"].mean(),2)\n",
    "dfNew.loc[\"median\", \"ARTICLE_TEXT1\"] = round(dfT[\"ARTICLE_TEXT1_SCALED\"].median(),2)\n",
    "dfNew.loc[\"max\", \"ARTICLE_TEXT1\"] = round(dfT[\"ARTICLE_TEXT1_SCALED\"].max(),2)\n",
    "dfNew.loc[\"min\", \"ARTICLE_TEXT1\"] = round(dfT[\"ARTICLE_TEXT1_SCALED\"].min(),2)\n",
    "\n",
    "dfNew.loc[\"overhead\", \"ARTICLE_TEXT1\"]  = dfNew[\"ARTICLE_TEXT1\"][\"median\"] / dfNew[\"SEQ\"][\"median\"]\n",
    "dfNew.loc[\"application_speedup\", \"ARTICLE_TEXT1\"]  = dfNew[\"SEQ\"][\"median\"] / dfNew[\"ARTICLE_TEXT1\"][\"median\"]\n",
    "\n",
    "\n",
    "# Article Text 4\n",
    "dfNew.loc[\"mean\", \"ARTICLE_TEXT4\"] = round(dfT[\"ARTICLE_TEXT4_SCALED\"].mean(),2)\n",
    "dfNew.loc[\"median\", \"ARTICLE_TEXT4\"] = round(dfT[\"ARTICLE_TEXT4_SCALED\"].median(),2)\n",
    "dfNew.loc[\"max\", \"ARTICLE_TEXT4\"] = round(dfT[\"ARTICLE_TEXT4_SCALED\"].max(),2)\n",
    "dfNew.loc[\"min\", \"ARTICLE_TEXT4\"] = round(dfT[\"ARTICLE_TEXT4_SCALED\"].min(),2)\n",
    "\n",
    "\n",
    "dfNew.loc[\"computation_speedup\", \"ARTICLE_TEXT4\"]  = dfNew[\"ARTICLE_TEXT1\"][\"median\"] / dfNew[\"ARTICLE_TEXT4\"][\"median\"]\n",
    "dfNew.loc[\"efficiency\", \"ARTICLE_TEXT4\"]  = dfNew[\"ARTICLE_TEXT1\"][\"median\"] / (4 * dfNew[\"ARTICLE_TEXT4\"][\"median\"])\n",
    "dfNew.loc[\"application_speedup\", \"ARTICLE_TEXT4\"]  = dfNew[\"SEQ\"][\"median\"] / dfNew[\"ARTICLE_TEXT4\"][\"median\"]\n",
    "\n",
    "\n",
    "# Article Text Max (12)\n",
    "dfNew.loc[\"mean\", \"ARTICLE_TEXT_MAX\"] = round(dfT[\"ARTICLE_TEXT_MAX_SCALED\"].mean(),2)\n",
    "dfNew.loc[\"median\", \"ARTICLE_TEXT_MAX\"] = round(dfT[\"ARTICLE_TEXT_MAX_SCALED\"].median(),2)\n",
    "dfNew.loc[\"max\", \"ARTICLE_TEXT_MAX\"] = round(dfT[\"ARTICLE_TEXT_MAX_SCALED\"].max(),2)\n",
    "dfNew.loc[\"min\", \"ARTICLE_TEXT_MAX\"] = round(dfT[\"ARTICLE_TEXT_MAX_SCALED\"].min(),2)\n",
    "\n",
    "\n",
    "dfNew.loc[\"computation_speedup\", \"ARTICLE_TEXT_MAX\"]  = dfNew[\"ARTICLE_TEXT1\"][\"median\"] / dfNew[\"ARTICLE_TEXT_MAX\"][\"median\"]\n",
    "dfNew.loc[\"efficiency\", \"ARTICLE_TEXT_MAX\"]  = dfNew[\"ARTICLE_TEXT1\"][\"median\"] / (12 * dfNew[\"ARTICLE_TEXT_MAX\"][\"median\"])\n",
    "dfNew.loc[\"application_speedup\", \"ARTICLE_TEXT_MAX\"]  = dfNew[\"SEQ\"][\"median\"] / dfNew[\"ARTICLE_TEXT_MAX\"][\"median\"]\n",
    "\n",
    "\n",
    "print(dfNew)\n",
    "\n",
    "\n",
    "\n"
   ],
   "metadata": {
    "collapsed": false
   },
   "id": "1a941180a4ddfb5c",
   "outputs": [],
   "execution_count": null
  },
  {
   "metadata": {},
   "cell_type": "markdown",
   "source": "## Plot Data",
   "id": "844b17756fe9af94"
  },
  {
   "metadata": {},
   "cell_type": "markdown",
   "source": "#### Median",
   "id": "4f3dd97f048b4619"
  },
  {
   "metadata": {},
   "cell_type": "code",
   "source": [
    "\n",
    "dfNew.loc[\"median\", 'SEQ':'ARTICLE_TEXT_MAX'].plot()\n",
    "\n"
   ],
   "id": "3fe7627aeeecd96c",
   "outputs": [],
   "execution_count": null
  },
  {
   "metadata": {},
   "cell_type": "markdown",
   "source": "#### Computation Speedup",
   "id": "8a75a9471a242438"
  },
  {
   "metadata": {},
   "cell_type": "code",
   "source": [
    "\n",
    "dfNew.loc[\"computation_speedup\", 'ARTICLE_TEXT4':].plot()\n",
    "plt.show()\n"
   ],
   "id": "24c74c2d0daccdd1",
   "outputs": [],
   "execution_count": null
  },
  {
   "metadata": {},
   "cell_type": "markdown",
   "source": "### Efficiency",
   "id": "2dba330d0cc4009d"
  },
  {
   "metadata": {},
   "cell_type": "code",
   "source": [
    "dfNew.loc[\"efficiency\", 'ARTICLE_TEXT4':].plot()\n",
    "plt.show()"
   ],
   "id": "a1beda035a443876",
   "outputs": [],
   "execution_count": null
  },
  {
   "metadata": {},
   "cell_type": "markdown",
   "source": "#### Application Speedup",
   "id": "c17a71fd18a6befa"
  },
  {
   "metadata": {},
   "cell_type": "code",
   "source": [
    "\n",
    "dfNew.loc[\"application_speedup\", 'ARTICLE_TEXT1':'ARTICLE_TEXT_MAX'].plot()\n",
    "plt.show()\n"
   ],
   "id": "3230ff5d966e708b",
   "outputs": [],
   "execution_count": null
  },
  {
   "metadata": {},
   "cell_type": "markdown",
   "source": "## Plotly Charts\n",
   "id": "7c99b34ab5af5557"
  },
  {
   "metadata": {},
   "cell_type": "code",
   "source": [
    "\n",
    "data = dfT[\"SEQ_SCALED\"]\n",
    "\n",
    "plt.boxplot(data, vert=0)\n",
    "plt.show()\n"
   ],
   "id": "1e9e6ce4f8358fa5",
   "outputs": [],
   "execution_count": null
  },
  {
   "metadata": {},
   "cell_type": "code",
   "source": "",
   "id": "914091a20e037a34",
   "outputs": [],
   "execution_count": null
  },
  {
   "metadata": {},
   "cell_type": "markdown",
   "source": "### Divider",
   "id": "408d1d08a3513b2b"
  },
  {
   "metadata": {
    "ExecuteTime": {
     "end_time": "2024-04-17T19:04:27.057134Z",
     "start_time": "2024-04-17T19:04:27.046763Z"
    }
   },
   "cell_type": "code",
   "source": [
    "\n",
    "data = dfT[\"SEQ_SCALED\"]\n",
    "\n",
    "fig = px.line(data)\n",
    "\n",
    "fig.show()\n"
   ],
   "id": "8354c2daa231066e",
   "outputs": [
    {
     "ename": "NameError",
     "evalue": "name 'dfT' is not defined",
     "output_type": "error",
     "traceback": [
      "\u001B[0;31m---------------------------------------------------------------------------\u001B[0m",
      "\u001B[0;31mNameError\u001B[0m                                 Traceback (most recent call last)",
      "Cell \u001B[0;32mIn[5], line 1\u001B[0m\n\u001B[0;32m----> 1\u001B[0m data \u001B[38;5;241m=\u001B[39m \u001B[43mdfT\u001B[49m[\u001B[38;5;124m\"\u001B[39m\u001B[38;5;124mSEQ_SCALED\u001B[39m\u001B[38;5;124m\"\u001B[39m]\n\u001B[1;32m      3\u001B[0m fig \u001B[38;5;241m=\u001B[39m px\u001B[38;5;241m.\u001B[39mline(data)\n\u001B[1;32m      5\u001B[0m fig\u001B[38;5;241m.\u001B[39mshow()\n",
      "\u001B[0;31mNameError\u001B[0m: name 'dfT' is not defined"
     ]
    }
   ],
   "execution_count": 5
  },
  {
   "metadata": {},
   "cell_type": "markdown",
   "source": "#### Divider",
   "id": "4dc0c62184fa26d5"
  },
  {
   "metadata": {
    "ExecuteTime": {
     "end_time": "2024-04-17T19:04:27.089952Z",
     "start_time": "2024-04-17T19:04:27.080326Z"
    }
   },
   "cell_type": "code",
   "source": [
    "\n",
    "# TODO Graph adjust\n",
    "\n",
    "data = dfT.loc['SEQ_SCALED':'ARTICLE_TEXT_MAX_SCALED']\n",
    "\n",
    "fig = px.line(data)\n",
    "\n",
    "fig.show()"
   ],
   "id": "5cd64748361b29f8",
   "outputs": [
    {
     "ename": "NameError",
     "evalue": "name 'dfT' is not defined",
     "output_type": "error",
     "traceback": [
      "\u001B[0;31m---------------------------------------------------------------------------\u001B[0m",
      "\u001B[0;31mNameError\u001B[0m                                 Traceback (most recent call last)",
      "Cell \u001B[0;32mIn[6], line 3\u001B[0m\n\u001B[1;32m      1\u001B[0m \u001B[38;5;66;03m# TODO Graph adjust\u001B[39;00m\n\u001B[0;32m----> 3\u001B[0m data \u001B[38;5;241m=\u001B[39m \u001B[43mdfT\u001B[49m\u001B[38;5;241m.\u001B[39mloc[\u001B[38;5;124m'\u001B[39m\u001B[38;5;124mSEQ_SCALED\u001B[39m\u001B[38;5;124m'\u001B[39m:\u001B[38;5;124m'\u001B[39m\u001B[38;5;124mARTICLE_TEXT_MAX_SCALED\u001B[39m\u001B[38;5;124m'\u001B[39m]\n\u001B[1;32m      5\u001B[0m fig \u001B[38;5;241m=\u001B[39m px\u001B[38;5;241m.\u001B[39mline(data)\n\u001B[1;32m      7\u001B[0m fig\u001B[38;5;241m.\u001B[39mshow()\n",
      "\u001B[0;31mNameError\u001B[0m: name 'dfT' is not defined"
     ]
    }
   ],
   "execution_count": 6
  },
  {
   "metadata": {
    "ExecuteTime": {
     "end_time": "2024-04-17T19:04:27.165967Z",
     "start_time": "2024-04-17T19:04:27.164329Z"
    }
   },
   "cell_type": "code",
   "source": "",
   "id": "793f13856bcc85cb",
   "outputs": [],
   "execution_count": 6
  }
 ],
 "metadata": {
  "kernelspec": {
   "display_name": "Python 3",
   "language": "python",
   "name": "python3"
  },
  "language_info": {
   "codemirror_mode": {
    "name": "ipython",
    "version": 2
   },
   "file_extension": ".py",
   "mimetype": "text/x-python",
   "name": "python",
   "nbconvert_exporter": "python",
   "pygments_lexer": "ipython2",
   "version": "2.7.6"
  }
 },
 "nbformat": 4,
 "nbformat_minor": 5
}
